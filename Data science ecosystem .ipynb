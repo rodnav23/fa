{
 "cells": [
  {
   "cell_type": "markdown",
   "id": "b50ac5bb",
   "metadata": {},
   "source": [
    "# Data science tools and Ecosystem"
   ]
  },
  {
   "cell_type": "markdown",
   "id": "ec43defe",
   "metadata": {},
   "source": [
    "In this notebook, Data science and Ecosystem are summarized."
   ]
  },
  {
   "cell_type": "markdown",
   "id": "91c1ef22",
   "metadata": {},
   "source": [
    "**Objectives:**\n",
    "\n",
    "- List popular languages for Data Science\n",
    "- Use headings\n",
    "- Numbered list\n",
    "- unordered list\n",
    "- List libraries used by Data Scientists \n",
    "- Create a table"
   ]
  },
  {
   "cell_type": "markdown",
   "id": "e1c7a640",
   "metadata": {},
   "source": [
    "Some of the popular languages that Data Scientists use are:\n",
    "1. Python\n",
    "2. R\n",
    "3. SQL\n",
    "4. Julia\n",
    "5. Java"
   ]
  },
  {
   "cell_type": "markdown",
   "id": "ad1c236d",
   "metadata": {},
   "source": [
    "Some of the commonly used libraries used by Data Scientists include:\n",
    "\n",
    "- Numpy\n",
    "- Pandas\n",
    "- TensorFlow\n",
    "- Scipy\n",
    "- Matplotlib\n",
    "- sciKit-Learn\n",
    "- Keras\n",
    "- PyTorch"
   ]
  },
  {
   "cell_type": "markdown",
   "id": "de8b7245",
   "metadata": {},
   "source": [
    "#### Data Science Tools\n",
    "---\n",
    "|Rstudio             |\n",
    "\n",
    "|Apache Spark        |\n",
    "  \n",
    "|Apache Hadoop       |\n",
    "\n",
    "\n"
   ]
  },
  {
   "cell_type": "markdown",
   "id": "acd2e015",
   "metadata": {},
   "source": [
    "### Below are a few examples of evaluating arithmetic expressions in Python\n",
    "\n",
    "(3 + 5) * 2\n",
    "\n",
    "(2 * 3) + 6\n",
    "\n",
    "(5 - 4) / 8\n"
   ]
  },
  {
   "cell_type": "code",
   "execution_count": 1,
   "id": "0c03e5a2",
   "metadata": {},
   "outputs": [
    {
     "data": {
      "text/plain": [
       "17"
      ]
     },
     "execution_count": 1,
     "metadata": {},
     "output_type": "execute_result"
    }
   ],
   "source": [
    "#This a simple arithmetic expression to mutiply then add integers\n",
    "\n",
    "(3*4)+5"
   ]
  },
  {
   "cell_type": "code",
   "execution_count": 3,
   "id": "b7e0f88a",
   "metadata": {},
   "outputs": [
    {
     "name": "stdout",
     "output_type": "stream",
     "text": [
      "3\n"
     ]
    }
   ],
   "source": [
    "#This will convert 200 minutes to hours by diving by 60\n",
    "\n",
    "x = 200 // 60\n",
    "print(x)"
   ]
  },
  {
   "cell_type": "markdown",
   "id": "9bd9a227",
   "metadata": {},
   "source": [
    "## Author\n",
    "\n",
    "Rodrigo navia"
   ]
  },
  {
   "cell_type": "code",
   "execution_count": null,
   "id": "b8361f93",
   "metadata": {},
   "outputs": [],
   "source": []
  }
 ],
 "metadata": {
  "kernelspec": {
   "display_name": "Python 3 (ipykernel)",
   "language": "python",
   "name": "python3"
  },
  "language_info": {
   "codemirror_mode": {
    "name": "ipython",
    "version": 3
   },
   "file_extension": ".py",
   "mimetype": "text/x-python",
   "name": "python",
   "nbconvert_exporter": "python",
   "pygments_lexer": "ipython3",
   "version": "3.11.4"
  }
 },
 "nbformat": 4,
 "nbformat_minor": 5
}
